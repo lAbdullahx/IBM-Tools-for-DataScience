{
  "nbformat": 4,
  "nbformat_minor": 0,
  "metadata": {
    "colab": {
      "provenance": []
    },
    "kernelspec": {
      "name": "python3",
      "display_name": "Python 3"
    },
    "language_info": {
      "name": "python"
    }
  },
  "cells": [
    {
      "cell_type": "markdown",
      "source": [
        "#Data Science Tools and Ecosystem\n",
        "\n",
        "In this notebook, Data Science Tools and Ecosystem are summarized.\n"
      ],
      "metadata": {
        "id": "x3sLdk6mnF6G"
      }
    },
    {
      "cell_type": "markdown",
      "source": [
        "**Objectives:**\n",
        "\n",
        "*   List popular languages for Data Science\n",
        "*   List popular laibraries for Data Science\n",
        "*   differentiate between machine learning and deep learning"
      ],
      "metadata": {
        "id": "R5ZVdrXRqK5w"
      }
    },
    {
      "cell_type": "markdown",
      "source": [
        "Some of the popular languages that Data Scientists use are:\n",
        "\n",
        "\n",
        "1.   Python\n",
        "2.   R\n",
        "3.   SQL\n",
        "4.   Java\n",
        "\n"
      ],
      "metadata": {
        "id": "Pom_mAYwnODK"
      }
    },
    {
      "cell_type": "markdown",
      "source": [
        "Some of the commonly used libraries used by Data Scientists include:\n",
        "\n",
        "\n",
        "1.   Pandas\n",
        "2.   NumPy\n",
        "3.   Matpltlib\n",
        "\n"
      ],
      "metadata": {
        "id": "-qiql2ctnsoR"
      }
    },
    {
      "cell_type": "markdown",
      "source": [
        "| Data Science Tools |\n",
        "| ----------- |\n",
        "| Jupyter Notebook |\n",
        "| Anaconda |\n",
        "| R Studio|"
      ],
      "metadata": {
        "id": "Tc6KEsuNoEsK"
      }
    },
    {
      "cell_type": "markdown",
      "source": [
        "###Below are a few examples of evaluating arithmetic expressions in Python\n"
      ],
      "metadata": {
        "id": "Vaa1JNHopON_"
      }
    },
    {
      "cell_type": "code",
      "source": [
        "#This a simple arithmetic expression to mutiply then add integers\n",
        "(3*4)+5"
      ],
      "metadata": {
        "colab": {
          "base_uri": "https://localhost:8080/"
        },
        "id": "d8-nZHBCpYP-",
        "outputId": "66a59a9d-a237-4ffe-da22-5a98e8b0467d"
      },
      "execution_count": 1,
      "outputs": [
        {
          "output_type": "execute_result",
          "data": {
            "text/plain": [
              "17"
            ]
          },
          "metadata": {},
          "execution_count": 1
        }
      ]
    },
    {
      "cell_type": "code",
      "source": [
        "#This will convert 200 minutes to hours by diving by 60\n",
        "200/60"
      ],
      "metadata": {
        "colab": {
          "base_uri": "https://localhost:8080/"
        },
        "id": "UiPkSNi6pqNG",
        "outputId": "5a5b155e-d3e8-44e2-8182-16016be50773"
      },
      "execution_count": 2,
      "outputs": [
        {
          "output_type": "execute_result",
          "data": {
            "text/plain": [
              "3.3333333333333335"
            ]
          },
          "metadata": {},
          "execution_count": 2
        }
      ]
    },
    {
      "cell_type": "markdown",
      "source": [
        "##Author\n",
        "Lama"
      ],
      "metadata": {
        "id": "nNBxRmDvrPYk"
      }
    }
  ]
}